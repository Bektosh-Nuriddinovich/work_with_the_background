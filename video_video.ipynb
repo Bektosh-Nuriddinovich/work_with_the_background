{
 "cells": [
  {
   "cell_type": "code",
   "execution_count": 1,
   "id": "96eb10d6",
   "metadata": {},
   "outputs": [],
   "source": [
    "import cv2\n",
    "import matplotlib.pyplot as plt\n",
    "import numpy as np\n",
    "\n",
    "# Paths\n",
    "video1_path=\"images/Free_Video_Templates__Lightning_During_A_Thunderstorm___FULL_HD.mp4\"\n",
    "video2_path=\"images/Green Screen Game of Thrones like Dragon 2  Flying Dragon.mp4\"\n",
    "\n",
    "video1=cv2.VideoCapture(video1_path)\n",
    "video2=cv2.VideoCapture(video2_path)\n",
    "\n",
    "while video1.isOpened() and video2.isOpened():\n",
    "    #read videos\n",
    "    ret1,kadr1=video1.read()\n",
    "    ret2,kadr2=video2.read()\n",
    "    if not (ret1 and ret2):\n",
    "        break\n",
    "    #resize\n",
    "    kadr1=cv2.resize(kadr1,(kadr2.shape[1],kadr2.shape[0]))\n",
    "    # copy frame\n",
    "    kadr1_copy=np.copy(kadr1)\n",
    "    kadr2_copy=np.copy(kadr2)\n",
    "    #make to mask with frames\n",
    "    mask2=cv2.inRange(kadr2,np.array([0,150,0]),np.array([150,255,150]))\n",
    "    #Cropping img by mask\n",
    "    kadr2_copy[mask2!=0]=[0,0,0]\n",
    "    kadr1_copy[mask2 == 0]=[0,0,0]\n",
    "    #result and show\n",
    "    cinema=kadr1_copy+kadr2_copy\n",
    "    cv2.imshow(\"video\",cinema)\n",
    "\n",
    "    if cv2.waitKey(40) & 0xFF==ord('q'):\n",
    "        break\n",
    "\n",
    "video1.release()\n",
    "video2.release()\n",
    "cv2.destroyAllWindows()"
   ]
  },
  {
   "cell_type": "code",
   "execution_count": null,
   "id": "3a039516",
   "metadata": {},
   "outputs": [],
   "source": []
  }
 ],
 "metadata": {
  "kernelspec": {
   "display_name": "Python 3 (ipykernel)",
   "language": "python",
   "name": "python3"
  },
  "language_info": {
   "codemirror_mode": {
    "name": "ipython",
    "version": 3
   },
   "file_extension": ".py",
   "mimetype": "text/x-python",
   "name": "python",
   "nbconvert_exporter": "python",
   "pygments_lexer": "ipython3",
   "version": "3.8.8"
  }
 },
 "nbformat": 4,
 "nbformat_minor": 5
}
